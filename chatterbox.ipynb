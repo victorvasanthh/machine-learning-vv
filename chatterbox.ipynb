{
  "nbformat": 4,
  "nbformat_minor": 0,
  "metadata": {
    "colab": {
      "name": "chatterbox.ipynb",
      "provenance": [],
      "collapsed_sections": []
    },
    "kernelspec": {
      "name": "python3",
      "display_name": "Python 3"
    },
    "language_info": {
      "name": "python"
    }
  },
  "cells": [
    {
      "cell_type": "code",
      "metadata": {
        "colab": {
          "base_uri": "https://localhost:8080/"
        },
        "id": "tbSiEQn6G2ii",
        "outputId": "c8872369-192d-48bc-c4a5-c562f746719c"
      },
      "source": [
        "pip install -- chatterbot_corpus"
      ],
      "execution_count": null,
      "outputs": [
        {
          "output_type": "stream",
          "name": "stdout",
          "text": [
            "Collecting chatterbot_corpus\n",
            "  Downloading chatterbot_corpus-1.2.0-py2.py3-none-any.whl (117 kB)\n",
            "\u001b[?25l\r\u001b[K     |██▉                             | 10 kB 22.7 MB/s eta 0:00:01\r\u001b[K     |█████▋                          | 20 kB 29.1 MB/s eta 0:00:01\r\u001b[K     |████████▍                       | 30 kB 12.3 MB/s eta 0:00:01\r\u001b[K     |███████████▏                    | 40 kB 9.4 MB/s eta 0:00:01\r\u001b[K     |██████████████                  | 51 kB 5.2 MB/s eta 0:00:01\r\u001b[K     |████████████████▊               | 61 kB 5.7 MB/s eta 0:00:01\r\u001b[K     |███████████████████▋            | 71 kB 5.4 MB/s eta 0:00:01\r\u001b[K     |██████████████████████▍         | 81 kB 6.1 MB/s eta 0:00:01\r\u001b[K     |█████████████████████████▏      | 92 kB 4.6 MB/s eta 0:00:01\r\u001b[K     |████████████████████████████    | 102 kB 5.0 MB/s eta 0:00:01\r\u001b[K     |██████████████████████████████▊ | 112 kB 5.0 MB/s eta 0:00:01\r\u001b[K     |████████████████████████████████| 117 kB 5.0 MB/s \n",
            "\u001b[?25hRequirement already satisfied: PyYAML<4.0,>=3.12 in /usr/local/lib/python3.7/dist-packages (from chatterbot_corpus) (3.13)\n",
            "Installing collected packages: chatterbot-corpus\n",
            "Successfully installed chatterbot-corpus-1.2.0\n"
          ]
        }
      ]
    },
    {
      "cell_type": "code",
      "metadata": {
        "colab": {
          "base_uri": "https://localhost:8080/"
        },
        "id": "OwY5EIEFHNks",
        "outputId": "d7440076-f67e-4f61-9e2b-b7bc9484f227"
      },
      "source": [
        "pip install --upgrade chatterbot"
      ],
      "execution_count": null,
      "outputs": [
        {
          "output_type": "stream",
          "name": "stdout",
          "text": [
            "Collecting chatterbot\n",
            "  Downloading ChatterBot-1.0.8-py2.py3-none-any.whl (63 kB)\n",
            "\u001b[K     |████████████████████████████████| 63 kB 1.4 MB/s \n",
            "\u001b[?25hCollecting sqlalchemy<1.4,>=1.3\n",
            "  Downloading SQLAlchemy-1.3.24-cp37-cp37m-manylinux2010_x86_64.whl (1.3 MB)\n",
            "\u001b[K     |████████████████████████████████| 1.3 MB 11.1 MB/s \n",
            "\u001b[?25hRequirement already satisfied: pytz in /usr/local/lib/python3.7/dist-packages (from chatterbot) (2018.9)\n",
            "Collecting mathparse<0.2,>=0.1\n",
            "  Downloading mathparse-0.1.2-py3-none-any.whl (7.2 kB)\n",
            "Requirement already satisfied: python-dateutil<2.9,>=2.8 in /usr/local/lib/python3.7/dist-packages (from chatterbot) (2.8.2)\n",
            "Requirement already satisfied: six>=1.5 in /usr/local/lib/python3.7/dist-packages (from python-dateutil<2.9,>=2.8->chatterbot) (1.15.0)\n",
            "Installing collected packages: sqlalchemy, mathparse, chatterbot\n",
            "  Attempting uninstall: sqlalchemy\n",
            "    Found existing installation: SQLAlchemy 1.4.25\n",
            "    Uninstalling SQLAlchemy-1.4.25:\n",
            "      Successfully uninstalled SQLAlchemy-1.4.25\n",
            "Successfully installed chatterbot-1.0.8 mathparse-0.1.2 sqlalchemy-1.3.24\n"
          ]
        }
      ]
    },
    {
      "cell_type": "code",
      "metadata": {
        "id": "oByaQ87WHkyA"
      },
      "source": [
        "from chatterbot import ChatBot\n",
        "from chatterbot.trainers import ListTrainer"
      ],
      "execution_count": null,
      "outputs": []
    },
    {
      "cell_type": "code",
      "metadata": {
        "id": "mysOCSsIH_ZT"
      },
      "source": [
        "my_bot =ChatBot('victor',read_only=True,logic_adpaters=['chatterbot.logic.mathematicalevaluation','chatterbot.logic.BestMatch'])"
      ],
      "execution_count": null,
      "outputs": []
    },
    {
      "cell_type": "code",
      "metadata": {
        "id": "fsuEIIraJDgf"
      },
      "source": [
        "small_talk = ['hi there!',\n",
        "              'hi!',\n",
        "              'how do you do?',\n",
        "              'how are you?',\n",
        "              'i\\'m cool.',\n",
        "              'fine, you?',\n",
        "              'always cool.',\n",
        "              'i\\'m ok',\n",
        "              'glad to hear that.',\n",
        "              'i\\'m fine',\n",
        "              'glad to hear that.',\n",
        "              'i feel awesome',\n",
        "              'excellent, glad to hear that.',\n",
        "              'not so good',\n",
        "              'sorry to hear that.',\n",
        "              'what\\'s your name?',\n",
        "              'i\\'m pybot. ask me a math question, please.']\n",
        "math_talk_1 = ['pythagorean theorem',\n",
        "               'a squared plus b squared equals c squared.']\n",
        "math_talk_2 = ['law of cosines',\n",
        "               'c**2 = a**2 + b**2 - 2 * a * b * cos(gamma)']"
      ],
      "execution_count": null,
      "outputs": []
    },
    {
      "cell_type": "code",
      "metadata": {
        "colab": {
          "base_uri": "https://localhost:8080/"
        },
        "id": "SGN-tJwLJTyx",
        "outputId": "2c3feee4-f276-4d69-f8dc-32377ba78262"
      },
      "source": [
        "list_trainer = ListTrainer(my_bot)\n",
        "for item in (small_talk, math_talk_1, math_talk_2):\n",
        "    list_trainer.train(item)"
      ],
      "execution_count": null,
      "outputs": [
        {
          "output_type": "stream",
          "name": "stdout",
          "text": [
            "List Trainer: [####################] 100%\n",
            "List Trainer: [####################] 100%\n",
            "List Trainer: [####################] 100%\n"
          ]
        }
      ]
    },
    {
      "cell_type": "code",
      "metadata": {
        "colab": {
          "base_uri": "https://localhost:8080/"
        },
        "id": "i2WSyrKuJZci",
        "outputId": "878c7841-8867-419a-dfd4-91b8e4fd877b"
      },
      "source": [
        " print(my_bot.get_response(\"hi\"))\n",
        "print(my_bot.get_response(\"i feel awesome today\"))\n",
        "print(my_bot.get_response(\"happy birthday vijayawada don\"))\n",
        "print(my_bot.get_response(\"where is birthday party\"))\n",
        "print(my_bot.get_response(\"will you give is ur party prathipati??\"))"
      ],
      "execution_count": null,
      "outputs": [
        {
          "output_type": "stream",
          "name": "stdout",
          "text": [
            "How are you doing?\n",
            "excellent, glad to hear that.\n",
            "i certainly am. i shouldn't try so hard.\n",
            "Can you move\n",
            "you psycho\n"
          ]
        }
      ]
    },
    {
      "cell_type": "code",
      "metadata": {
        "colab": {
          "base_uri": "https://localhost:8080/"
        },
        "id": "2Xia4m7iJ3EY",
        "outputId": "c5c460e6-c0ec-4b09-d23c-af3aa05f994f"
      },
      "source": [
        "from chatterbot.trainers import ChatterBotCorpusTrainer\n",
        "corpus_trainer = ChatterBotCorpusTrainer(my_bot)\n",
        "corpus_trainer.train('chatterbot.corpus.english')"
      ],
      "execution_count": null,
      "outputs": [
        {
          "output_type": "stream",
          "name": "stdout",
          "text": [
            "Training ai.yml: [####################] 100%\n",
            "Training botprofile.yml: [####################] 100%\n",
            "Training computers.yml: [####################] 100%\n",
            "Training conversations.yml: [####################] 100%\n",
            "Training emotion.yml: [####################] 100%\n",
            "Training food.yml: [####################] 100%\n",
            "Training gossip.yml: [####################] 100%\n",
            "Training greetings.yml: [####################] 100%\n",
            "Training health.yml: [####################] 100%\n",
            "Training history.yml: [####################] 100%\n",
            "Training humor.yml: [####################] 100%\n",
            "Training literature.yml: [####################] 100%\n",
            "Training money.yml: [####################] 100%\n",
            "Training movies.yml: [####################] 100%\n",
            "Training politics.yml: [####################] 100%\n",
            "Training psychology.yml: [####################] 100%\n",
            "Training science.yml: [####################] 100%\n",
            "Training sports.yml: [####################] 100%\n",
            "Training trivia.yml: [####################] 100%\n"
          ]
        }
      ]
    },
    {
      "cell_type": "code",
      "metadata": {
        "colab": {
          "base_uri": "https://localhost:8080/"
        },
        "id": "oYskS8Q1KBT3",
        "outputId": "2f6714fa-1dc5-49a3-adfe-67d34c815d41"
      },
      "source": [
        "print(my_bot.get_response(\"happiest birthday chotu\"))"
      ],
      "execution_count": null,
      "outputs": [
        {
          "output_type": "stream",
          "name": "stdout",
          "text": [
            "sometimes when i'm on a good power supply i feel tipsy\n"
          ]
        }
      ]
    },
    {
      "cell_type": "code",
      "metadata": {
        "colab": {
          "base_uri": "https://localhost:8080/"
        },
        "id": "0GAF2G4-LEOS",
        "outputId": "68ca81e2-5800-407b-ceb4-9bebd58feaa3"
      },
      "source": [
        "print(my_bot.get_response(\"i love you birthday boy\"))"
      ],
      "execution_count": null,
      "outputs": [
        {
          "output_type": "stream",
          "name": "stdout",
          "text": [
            "how far is the sun\n"
          ]
        }
      ]
    }
  ]
}